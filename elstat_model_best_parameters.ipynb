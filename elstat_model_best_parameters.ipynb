{
 "cells": [
  {
   "cell_type": "markdown",
   "metadata": {},
   "source": [
    "# Electrostatic model for different parameters"
   ]
  },
  {
   "cell_type": "markdown",
   "metadata": {},
   "source": [
    "Notebook to generate the data to replicate Figure A3 and Figure 9. \n",
    "\n",
    "- Part 1: Data loading. Change the 'path_data' variable to point to the location of the data downloaded from materials cloud\n"
    "- Part 2: Results of the electrostatic model with and without self-screening for different values of epsilon_r and lambda\n",
    "- Part 3: Results of the electrostatic model with the best parameters from Part 2\n",
    "\n",
    "For more information on the model see the appendix of the paper. \n",
    "\n"
   ]
  },
  {
   "cell_type": "code",
   "execution_count": 1,
   "metadata": {},
   "outputs": [],
   "source": [
    "%load_ext autoreload\n",
    "%autoreload 2\n",
    "\n",
    "import numpy as np\n",
    "\n",
    "# pymatgen\n",
    "from pymatgen.core import Structure\n",
    "from pymatgen.io.vasp.outputs import Outcar\n",
    "\n",
    "\n",
    "# # curve fitting\n",
    "from scipy.optimize import curve_fit\n",
    "\n",
    "from python_functions.elstat_model import energy_model_depol_and_selfscreen, energy_model_depol_field, save_3d_array_to_txt, getmin\n",
    "from python_functions.polarization import get_pol_from_charges, myround\n",
    "\n",
    "# for saving and loading data\n",
    "from bson.json_util import loads\n",
    "\n",
    "# path to save the data\n",
    "import os\n",
    "dirname = os.getcwd()\n",
    "figures_out = os.path.join(dirname, 'figures/')\n",
    "path_data = '../materials_cloud_data/' # change this path to point to the directory containing the data downloaded from materials cloud.\n",
    "path_output = '../test/'\n"
   ]
  },
  {
   "cell_type": "markdown",
   "metadata": {},
   "source": [
    "## 1. Input structures"
   ]
  },
  {
   "cell_type": "markdown",
   "metadata": {},
   "source": [
    "### bulk structures"
   ]
  },
  {
   "cell_type": "code",
   "execution_count": 2,
   "metadata": {},
   "outputs": [],
   "source": [
    "# Bulk structures\n",
    "\n",
    "# BTO\n",
    "bto_polar = Structure.from_file(f'{path_data}/bulk/batio3/bto_polar_strained/static/POSCAR')\n",
    "bto_unpol = Structure.from_file(f'{path_data}/bulk/batio3/bto_unpolar_strained/static/POSCAR')\n",
    "\n",
    "# SNO\n",
    "sno_unpol = Structure.from_file(f'{path_data}/bulk/smnio3/no_rots/static/POSCAR')\n",
    "sno_tilts = Structure.from_file(f'{path_data}/bulk/smnio3/with_rots/static/POSCAR')"
   ]
  },
  {
   "cell_type": "code",
   "execution_count": 3,
   "metadata": {},
   "outputs": [],
   "source": [
    "# Functions for fitting\n",
    "def fit_4th_order_poly(P, a, b, c):\n",
    "    return a * P**2 + b * P**4 + c\n",
    "\n",
    "def fit_2nd_order_poly(P, a, b):\n",
    "    return a * P**2 + b"
   ]
  },
  {
   "cell_type": "markdown",
   "metadata": {},
   "source": [
    "#### batio3"
   ]
  },
  {
   "cell_type": "code",
   "execution_count": 6,
   "metadata": {},
   "outputs": [
    {
     "name": "stdout",
     "output_type": "stream",
     "text": [
      "Optimized parameters are a = -3.2871 pm 0.0270 and b = 28.8289 pm 0.3339 and c = -41.8726 pm 0.0004\n"
     ]
    }
   ],
   "source": [
    "# read in results from different phonon distortion amplitudes\n",
    "with open(path_data+'/bulk/batio3/phonon_calc_polar_cell.json', 'r') as file:\n",
    "    result = loads(file.read())\n",
    "\n",
    "\n",
    "# extract data\n",
    "energies_bto_nr_pcell_phonopy_eqmass = []\n",
    "displacements_bto_nr_pcell_phonopy_eqmass = []\n",
    "struct_bto_phonon_eqmass = []\n",
    "\n",
    "for res in result:\n",
    "    energies_bto_nr_pcell_phonopy_eqmass.append(res[\"output\"][\"output\"][\"energy\"])\n",
    "    displacements_bto_nr_pcell_phonopy_eqmass.append(float(res[\"metadata\"][\"comment\"].split(\" \")[-1]))\n",
    "    struct_bto_phonon_eqmass.append(Structure.from_dict(res[\"output\"][\"output\"][\"structure\"]))\n",
    "\n",
    "# change to numpy array\n",
    "energies_bto_nr_pcell_phonopy_eqmass = np.array(energies_bto_nr_pcell_phonopy_eqmass)\n",
    "displacements_bto_nr_pcell_phonopy_eqmass = np.array(displacements_bto_nr_pcell_phonopy_eqmass)\n",
    "\n",
    "# sort data\n",
    "sorted_i = np.argsort(displacements_bto_nr_pcell_phonopy_eqmass)\n",
    "displacements_bto_nr_pcell_phonopy_eqmass = displacements_bto_nr_pcell_phonopy_eqmass[sorted_i]\n",
    "energies_bto_nr_pcell_phonopy_eqmass = energies_bto_nr_pcell_phonopy_eqmass[sorted_i]\n",
    "\n",
    "# displacement amplitudes\n",
    "displacements_bto_nr_pcell_phonopy_eqmass = np.linspace(-1.2, 1.2,21)[0:-1]\n",
    "\n",
    "# plot energy as a function of polarization\n",
    "pol_bto_pcell_nonrel_phonon_eqmass = []\n",
    "\n",
    "# formal charges SmNiO3\n",
    "m_O = np.zeros([3, 3])\n",
    "np.fill_diagonal(m_O, -2)\n",
    "m_Ti = np.zeros([3, 3])\n",
    "np.fill_diagonal(m_Ti, 4)\n",
    "m_Ba = np.zeros([3, 3])\n",
    "np.fill_diagonal(m_Ba, 2)\n",
    "\n",
    "for i in sorted_i:\n",
    "        struct = struct_bto_phonon_eqmass[i]\n",
    "        \n",
    "        # order charges \n",
    "        chem_symbols = np.array([str(specie) for specie in struct.species]) \n",
    "        charges = np.zeros([len(chem_symbols), 3, 3])\n",
    "        charges[chem_symbols=='Ti'] = np.array([m_Ti for charge in charges[chem_symbols=='Ti']])\n",
    "        charges[chem_symbols=='Ba'] = np.array([m_Ba for charge in charges[chem_symbols=='Ba']])\n",
    "        charges[chem_symbols=='O'] = np.array([m_O for charge in charges[chem_symbols=='O']])\n",
    "        \n",
    "        # calculate polarization\n",
    "        pol = get_pol_from_charges(struct.cart_coords, np.matmul(myround(struct.frac_coords, 1, 0.5), struct.lattice.matrix), charges, struct.volume)\n",
    "        pol_bto_pcell_nonrel_phonon_eqmass.append(pol)\n",
    "\n",
    "pol_bto_pcell_nonrel_phonon_eqmass = np.array(pol_bto_pcell_nonrel_phonon_eqmass)/100 # in C/m^2\n",
    "\n",
    "# fit E = a*P**2 + b* P**4 to data\n",
    "fit_range = abs(pol_bto_pcell_nonrel_phonon_eqmass[:,2]) < 0.3\n",
    "popt, pcov = curve_fit(fit_4th_order_poly, pol_bto_pcell_nonrel_phonon_eqmass[fit_range,2], energies_bto_nr_pcell_phonopy_eqmass[fit_range])\n",
    "perr = np.sqrt(np.diag(pcov))  # standard-deviation estimates for each coefficient\n",
    "\n",
    "# popt contains the optimized values for a and b\n",
    "a_opt_form_bto_pol, b_opt_form_bto_pol, c_opt_form_bto_pol = popt\n",
    "\n",
    "print(f\"Optimized parameters are a = {a_opt_form_bto_pol:.4f} pm {perr[0]:.4f} and b = {b_opt_form_bto_pol:.4f} pm {perr[1]:.4f} and c = {c_opt_form_bto_pol:.4f} pm {perr[2]:.4f}\")"
   ]
  },
  {
   "cell_type": "markdown",
   "metadata": {},
   "source": [
    "#### smnio3\n"
   ]
  },
  {
   "cell_type": "markdown",
   "metadata": {},
   "source": [
    "##### with rotations"
   ]
  },
  {
   "cell_type": "code",
   "execution_count": 7,
   "metadata": {},
   "outputs": [
    {
     "name": "stdout",
     "output_type": "stream",
     "text": [
      "Optimized parameters (2nd order polynomial) are a = 1034.4548 pm 3.7451 and b = -152.1199 pm 0.0179\n"
     ]
    }
   ],
   "source": [
    "# read in results from different phonon distortion amplitudes\n",
    "with open(path_data+'/bulk/smnio3/with_rots/phonon_calc_band9.json', 'r') as file:\n",
    "    result = loads(file.read())\n",
    "\n",
    "# plot energy vs displacement\n",
    "energies_sno_wt = []\n",
    "displacements_sno_wt = []\n",
    "structs_sno_wt = []\n",
    "\n",
    "for res in result:\n",
    "    energies_sno_wt.append(res[\"output\"][\"output\"][\"energy\"])\n",
    "    displacements_sno_wt.append(float(res[\"metadata\"][\"comment\"].split(\" \")[-1]))\n",
    "    structs_sno_wt.append(Structure.from_dict(res[\"output\"][\"structure\"]))\n",
    "\n",
    "# change to numpy array\n",
    "energies_sno_wt = np.array(energies_sno_wt)\n",
    "displacements_sno_wt = np.array(displacements_sno_wt)\n",
    "\n",
    "# calculate polarization\n",
    "polarization_sno_wt = []\n",
    "\n",
    "# formal charges SmNiO3\n",
    "m_O = np.zeros([3, 3])\n",
    "np.fill_diagonal(m_O, -2)\n",
    "m_Ni = np.zeros([3, 3])\n",
    "np.fill_diagonal(m_Ni, 3)\n",
    "m_Sm = np.zeros([3, 3])\n",
    "np.fill_diagonal(m_Sm, 3)\n",
    "\n",
    "for i, displ in enumerate(displacements_sno_wt):\n",
    "        # order charges \n",
    "        chem_symbols = np.array([str(specie) for specie in structs_sno_wt[i].species]) # species as string array\n",
    "        charges = np.zeros([len(chem_symbols), 3, 3])\n",
    "        charges[chem_symbols=='Ni'] = np.array([m_Ni for charge in charges[chem_symbols=='Ni']])\n",
    "        charges[chem_symbols=='Sm'] = np.array([m_Sm for charge in charges[chem_symbols=='Sm']])\n",
    "        charges[chem_symbols=='O'] = np.array([m_O for charge in charges[chem_symbols=='O']])\n",
    "        \n",
    "        # calculate polarization\n",
    "        pol = get_pol_from_charges(structs_sno_wt[i].cart_coords, np.matmul(myround(structs_sno_wt[i].frac_coords, 2, 0.25), structs_sno_wt[i].lattice.matrix), charges, structs_sno_wt[i].volume)\n",
    "        polarization_sno_wt.append(pol)\n",
    "\n",
    "polarization_sno_wt = np.array(polarization_sno_wt)/100 # in C/m^2\n",
    "\n",
    "# fit to data\n",
    "popt, pcov = curve_fit(fit_2nd_order_poly, polarization_sno_wt[:,1], energies_sno_wt)\n",
    "perr = np.sqrt(np.diag(pcov))  # standard-deviation estimates for each coefficient\n",
    "\n",
    "# popt contains the optimized values for a and b\n",
    "a_opt_form_sno_tilts, b_opt_form_sno_tilts = popt\n",
    "\n",
    "print(f\"Optimized parameters (2nd order polynomial) are a = {a_opt_form_sno_tilts:.4f} pm {perr[0]:.4f} and b = {b_opt_form_sno_tilts:.4f} pm {perr[1]:.4f}\")"
   ]
  },
  {
   "cell_type": "markdown",
   "metadata": {},
   "source": [
    "##### no rotations"
   ]
  },
  {
   "cell_type": "code",
   "execution_count": 8,
   "metadata": {},
   "outputs": [
    {
     "name": "stdout",
     "output_type": "stream",
     "text": [
      "Optimized parameters are a = -0.0200 pm 0.0023 and b = 3.3479 pm 0.0203 and c = -37.3535 perr 0.0000\n"
     ]
    }
   ],
   "source": [
    "# read in the results from the phonon calculations\n",
    "with open(path_data+'/bulk/smnio3/no_rots/phonon_calc_band5.json', 'r') as file:\n",
    "    result = loads(file.read())\n",
    "\n",
    "# plot energy vs displacement\n",
    "energies_sno_nt_eqmass = []\n",
    "displacements_sno_nt_eqmass = []\n",
    "structs_sno_nt_eqmass = []\n",
    "\n",
    "for res in result:\n",
    "    energies_sno_nt_eqmass.append(res[\"output\"][\"output\"][\"energy\"])\n",
    "    displacements_sno_nt_eqmass.append(float(res[\"metadata\"][\"comment\"].split(\" \")[-1]))\n",
    "    structs_sno_nt_eqmass.append(Structure.from_dict(res[\"output\"][\"structure\"]))\n",
    "\n",
    "# change to numpy array\n",
    "energies_sno_nt_eqmass = np.array(energies_sno_nt_eqmass)\n",
    "displacements_sno_nt_eqmass = np.array(displacements_sno_nt_eqmass)\n",
    "\n",
    "# calculate polarization\n",
    "polarization_sno_nt_eqmass = []\n",
    "\n",
    "for i, displ in enumerate(displacements_sno_nt_eqmass):\n",
    "        \n",
    "        # order charges \n",
    "        chem_symbols = np.array([str(specie) for specie in structs_sno_nt_eqmass[i].species]) # species as string array\n",
    "        charges = np.zeros([len(chem_symbols), 3, 3])\n",
    "        charges[chem_symbols=='Ni'] = np.array([m_Ni for charge in charges[chem_symbols=='Ni']])\n",
    "        charges[chem_symbols=='Sm'] = np.array([m_Sm for charge in charges[chem_symbols=='Sm']])\n",
    "        charges[chem_symbols=='O'] = np.array([m_O for charge in charges[chem_symbols=='O']])\n",
    "        \n",
    "        # calculate polarization\n",
    "        pol = get_pol_from_charges(structs_sno_nt_eqmass[i].cart_coords, np.matmul(myround(structs_sno_nt_eqmass[i].frac_coords, 2, 0.5), structs_sno_nt_eqmass[i].lattice.matrix), charges, structs_sno_nt_eqmass[i].volume)\n",
    "        polarization_sno_nt_eqmass.append(pol)\n",
    "\n",
    "polarization_sno_nt_eqmass = np.array(polarization_sno_nt_eqmass)/100 # in C/m^2\n",
    "\n",
    "# fit E = a*P**2 + b* P**4 to data\n",
    "max_p = 0.4\n",
    "fit_range = abs(polarization_sno_nt_eqmass[:,2])<=max_p\n",
    "\n",
    "popt, pcov = curve_fit(fit_4th_order_poly, polarization_sno_nt_eqmass[fit_range,2], energies_sno_nt_eqmass[fit_range])\n",
    "perr = np.sqrt(np.diag(pcov))  # standard-deviation estimates for each coefficient\n",
    "\n",
    "# popt contains the optimized values for a and b\n",
    "a_opt_form_sno_notilts, b_opt_form_sno_notilts, c_opt_form_sno_notilts = popt\n",
    "\n",
    "print(f\"Optimized parameters are a = {a_opt_form_sno_notilts:.4f} pm {perr[0]:.4f} and b = {b_opt_form_sno_notilts:.4f} pm {perr[1]:.4f} and c = {c_opt_form_sno_notilts:.4f} perr {perr[2]:.4f}\")"
   ]
  },
  {
   "cell_type": "markdown",
   "metadata": {},
   "source": [
    "### Fit parameters"
   ]
  },
  {
   "cell_type": "code",
   "execution_count": 9,
   "metadata": {},
   "outputs": [],
   "source": [
    "# normalize to volume and change units to eV m^4 C^-2 for a and eV m^8 C^-4 for b\n",
    "\n",
    "# polar bto\n",
    "a_bto = a_opt_form_bto_pol/bto_polar.volume * 1e10**3\n",
    "b_bto = b_opt_form_bto_pol/bto_polar.volume * 1e10**3\n",
    "\n",
    "# polar sno with rotations\n",
    "a_sno = a_opt_form_sno_tilts/sno_tilts.volume * 1e10**3\n",
    "b_sno = b_opt_form_sno_tilts/sno_tilts.volume * 1e10**3\n",
    "\n",
    "# polar sno without rotations\n",
    "a_sno_snt = a_opt_form_sno_notilts/sno_unpol.volume/(10**(-10))**3\n",
    "b_sno_snt = b_opt_form_sno_notilts/sno_unpol.volume/(10**(-10))**3"
   ]
  },
  {
   "cell_type": "markdown",
   "metadata": {},
   "source": [
    "### DFT data"
   ]
  },
  {
   "cell_type": "markdown",
   "metadata": {},
   "source": [
    "DFT energies for superlattices (no rotations) with 4 layers of SmNiO3 and 5, 10 and 30 layers of BaTiO3 for superlattices with BaTiO3 with different polar distortions. "
   ]
  },
  {
   "cell_type": "code",
   "execution_count": 10,
   "metadata": {},
   "outputs": [],
   "source": [
    "# bto = 5\n",
    "\n",
    "# arrays to store data\n",
    "frac_displ_res_5 = np.linspace(-1.0, 1.4, 13)\n",
    "en_frac_nt_nr_5 = np.zeros(len(frac_displ_res_5))\n",
    "\n",
    "# loop over all displacements\n",
    "for i, frac in enumerate(frac_displ_res_5):\n",
    "    path_frac = f'no_rots/bto5_sno4/soft_mode/frac_{frac:.2f}/'.replace('.','-') # path\n",
    "    outcar = Outcar(path_data+path_frac+'OUTCAR') # read in OUTCAR\n",
    "    en_frac_nt_nr_5[i] = outcar.final_fr_energy # store final energy\n",
    "\n",
    "# bto = 10\n",
    "\n",
    "# arrays to store data\n",
    "en_frac_nt_nr_10 = np.zeros(len(frac_displ_res_5))\n",
    "\n",
    "# loop over all displacements\n",
    "for i, frac in enumerate(frac_displ_res_5):\n",
    "    path_frac = f'no_rots/bto10_sno4/soft_mode/frac_{frac:.2f}/'.replace('.','-') # path\n",
    "    outcar = Outcar(path_data+path_frac+'OUTCAR') # read in OUTCAR\n",
    "    en_frac_nt_nr_10[i] = outcar.final_fr_energy # store final energy\n",
    "\n",
    "# bto = 30\n",
    "\n",
    "# arrays to store data\n",
    "frac_displ_res = np.linspace(-1.2, 1.4, 14)\n",
    "en_frac_nt_nr_30 = np.zeros(len(frac_displ_res))\n",
    "\n",
    "# loop over all displacements\n",
    "for i, frac in enumerate(frac_displ_res):\n",
    "    path_frac = f'no_rots/bto30_sno4/soft_mode/frac_{frac:.2f}/'.replace('.','-') # path\n",
    "    outcar = Outcar(path_data+path_frac+'OUTCAR')   # read in OUTCAR\n",
    "    en_frac_nt_nr_30[i] = outcar.final_fr_energy # store final energy\n",
    "\n",
    "\n",
    "\n",
    "\n"
   ]
  },
  {
   "cell_type": "markdown",
   "metadata": {},
   "source": [
    "## 2. Electrostatic model for different parameters"
   ]
  },
  {
   "cell_type": "code",
   "execution_count": 11,
   "metadata": {},
   "outputs": [],
   "source": [
    "# sample size\n",
    "nsamples = 101 # number of polarization values to sample\n",
    "ncells = 100 # maximum number of batio3 unit cells\n",
    "\n",
    "# array for plotting\n",
    "c_bto = bto_polar.lattice.c # length of one batio3 unit cell\n",
    "p_btos = np.linspace(-0.5, 0.5, nsamples) # polarization values batio3\n",
    "p_snos = np.linspace(-0.49, 0.49, nsamples) # polarization values smnio3\n",
    "p_snos_tilted = np.linspace(-0.1, 0.1, nsamples) # polarization values smnio3 with rotations\n",
    "i_uhp = p_btos < 0 # indices for unhappy orientation of batio3\n",
    "\n",
    "# d_sno\n",
    "d_sno_nt = 4*sno_unpol.lattice.c*10**-10 # length of one smnio3 unit cell without rotations\n",
    "d_sno_wt = 4*sno_unpol.lattice.c*10**-10/2 # length of one smnio3 unit cell with rotations\n",
    "dvec = np.arange(1, ncells+1, 1)*c_bto*10**-10 # array for number of batio3 unit cells\n",
    "\n",
    "# parameters to test\n",
    "factor = np.array([c_bto**2*10**-20/1, 1e-19, 1e-20, 1e-21]) # factor for energy model\n",
    "egs = np.array([1.8, 3.2]) # band gap smnio3"
   ]
  },
  {
   "cell_type": "markdown",
   "metadata": {},
   "source": [
    "### Electrostatic model without self-screening"
   ]
  },
  {
   "cell_type": "code",
   "execution_count": 13,
   "metadata": {},
   "outputs": [
    {
     "name": "stdout",
     "output_type": "stream",
     "text": [
      "factor = 1.7428350121004207e-19\n",
      "lambda_dep = 3.23E-09, 7.75\n",
      "Array saved to ../test/energy_nsc_landscape_wt_factor=1.74E-19_eg=1.8.txt\n",
      "Array saved to ../test/energy_nsc_landscape_nt_factor=1.74E-19_eg=1.8.txt\n",
      "factor = 1e-19\n",
      "lambda_dep = 2.45E-09, 5.87\n",
      "Array saved to ../test/energy_nsc_landscape_wt_factor=1.00E-19_eg=1.8.txt\n",
      "Array saved to ../test/energy_nsc_landscape_nt_factor=1.00E-19_eg=1.8.txt\n",
      "factor = 1e-20\n",
      "lambda_dep = 7.75E-10, 1.86\n",
      "Array saved to ../test/energy_nsc_landscape_wt_factor=1.00E-20_eg=1.8.txt\n",
      "Array saved to ../test/energy_nsc_landscape_nt_factor=1.00E-20_eg=1.8.txt\n",
      "factor = 1e-21\n",
      "lambda_dep = 2.45E-10, 0.59\n",
      "Array saved to ../test/energy_nsc_landscape_wt_factor=1.00E-21_eg=1.8.txt\n",
      "Array saved to ../test/energy_nsc_landscape_nt_factor=1.00E-21_eg=1.8.txt\n",
      "factor = 1.7428350121004207e-19\n",
      "lambda_dep = 3.23E-09, 7.75\n",
      "Array saved to ../test/energy_nsc_landscape_wt_factor=1.74E-19_eg=3.2.txt\n",
      "Array saved to ../test/energy_nsc_landscape_nt_factor=1.74E-19_eg=3.2.txt\n",
      "factor = 1e-19\n",
      "lambda_dep = 2.45E-09, 5.87\n",
      "Array saved to ../test/energy_nsc_landscape_wt_factor=1.00E-19_eg=3.2.txt\n",
      "Array saved to ../test/energy_nsc_landscape_nt_factor=1.00E-19_eg=3.2.txt\n",
      "factor = 1e-20\n",
      "lambda_dep = 7.75E-10, 1.86\n",
      "Array saved to ../test/energy_nsc_landscape_wt_factor=1.00E-20_eg=3.2.txt\n",
      "Array saved to ../test/energy_nsc_landscape_nt_factor=1.00E-20_eg=3.2.txt\n",
      "factor = 1e-21\n",
      "lambda_dep = 2.45E-10, 0.59\n",
      "Array saved to ../test/energy_nsc_landscape_wt_factor=1.00E-21_eg=3.2.txt\n",
      "Array saved to ../test/energy_nsc_landscape_nt_factor=1.00E-21_eg=3.2.txt\n"
     ]
    }
   ],
   "source": [
    "# loop over band gaps\n",
    "for eg in egs:\n",
    "\n",
    "    # loop over different factors\n",
    "    for f in factor:\n",
    "        print(f'factor = {f}')\n",
    "\n",
    "        # energy landscape\n",
    "        energies_wt_per_d = np.zeros([len(dvec), len(p_btos), len(p_snos_tilted)])\n",
    "        energies_nt_per_d = np.zeros([len(dvec), len(p_btos), len(p_snos)])\n",
    "\n",
    "        # calculate lambda_dep\n",
    "        epsr = 60\n",
    "        lambda_dep = np.sqrt(f*epsr)\n",
    "        print(f'lambda_dep = {lambda_dep:.2E}, {lambda_dep/c_bto*10**10:.2f}')\n",
    "\n",
    "        for k, d in enumerate(dvec):\n",
    "            energies_hp_dep_wt = np.zeros([len(p_btos), len(p_snos)])\n",
    "            energies_hp_dep_nt = np.zeros([len(p_btos), len(p_snos)])\n",
    "\n",
    "\n",
    "            # loop over all polarization values\n",
    "            for i, p_bto in enumerate(p_btos):\n",
    "                for j, p_sno in enumerate(p_snos):\n",
    "                    energies_hp_dep_wt[i,j], _, _ = energy_model_depol_field(p_bto, a_bto, b_bto, p_snos_tilted[j], a_sno, b_sno, d, lambda_dep=lambda_dep, d_sno=d_sno_wt,  epsr=epsr)\n",
    "                    energies_hp_dep_nt[i,j], _, _ = energy_model_depol_field(p_bto, a_bto, b_bto, p_sno, a_sno_snt, b_sno_snt, d, lambda_dep=lambda_dep,  d_sno=d_sno_nt,  epsr=epsr)\n",
    "        \n",
    "\n",
    "            # store energy landscape\n",
    "            energies_wt_per_d[k] = energies_hp_dep_wt\n",
    "            energies_nt_per_d[k] = energies_hp_dep_nt\n",
    "\n",
    "\n",
    "        # save results to file\n",
    "        save_3d_array_to_txt(energies_wt_per_d, f'{path_output}energy_nsc_landscape_wt_factor={f:.2E}_eg={eg}.txt')\n",
    "        save_3d_array_to_txt(energies_nt_per_d, f'{path_output}energy_nsc_landscape_nt_factor={f:.2E}_eg={eg}.txt')"
   ]
  },
  {
   "cell_type": "markdown",
   "metadata": {},
   "source": [
    "### Electrostatic model with slef-screening"
   ]
  },
  {
   "cell_type": "code",
   "execution_count": 14,
   "metadata": {},
   "outputs": [
    {
     "name": "stdout",
     "output_type": "stream",
     "text": [
      "1.8\n",
      "factor = 1.7428350121004207e-19\n",
      "lambda_dep = 3.23E-09, 7.75\n"
     ]
    },
    {
     "name": "stderr",
     "output_type": "stream",
     "text": [
      "/Users/esimmen/PhD/heterostructs/BTO_SNO/publication_data/paper_met_bto_sno/data_analysis/python_functions/elstat_model.py:191: RuntimeWarning: divide by zero encountered in scalar divide\n",
      "  limit =  (eps0 * epsr * e_g) / (gamma**2 * ptot)\n"
     ]
    },
    {
     "name": "stdout",
     "output_type": "stream",
     "text": [
      "saving results\n",
      "Array saved to ../test/energy_landscape_depANDsc_wt_factor=1.74E-19_eg=1.8.txt\n",
      "Array saved to ../test/energy_landscape_depANDsc_nt_factor=1.74E-19_eg=1.8.txt\n",
      "factor = 1e-19\n",
      "lambda_dep = 2.45E-09, 5.87\n",
      "saving results\n",
      "Array saved to ../test/energy_landscape_depANDsc_wt_factor=1.00E-19_eg=1.8.txt\n",
      "Array saved to ../test/energy_landscape_depANDsc_nt_factor=1.00E-19_eg=1.8.txt\n",
      "factor = 1e-20\n",
      "lambda_dep = 7.75E-10, 1.86\n",
      "saving results\n",
      "Array saved to ../test/energy_landscape_depANDsc_wt_factor=1.00E-20_eg=1.8.txt\n",
      "Array saved to ../test/energy_landscape_depANDsc_nt_factor=1.00E-20_eg=1.8.txt\n",
      "factor = 1e-21\n",
      "lambda_dep = 2.45E-10, 0.59\n",
      "saving results\n",
      "Array saved to ../test/energy_landscape_depANDsc_wt_factor=1.00E-21_eg=1.8.txt\n",
      "Array saved to ../test/energy_landscape_depANDsc_nt_factor=1.00E-21_eg=1.8.txt\n",
      "3.2\n",
      "factor = 1.7428350121004207e-19\n",
      "lambda_dep = 3.23E-09, 7.75\n",
      "saving results\n",
      "Array saved to ../test/energy_landscape_depANDsc_wt_factor=1.74E-19_eg=3.2.txt\n",
      "Array saved to ../test/energy_landscape_depANDsc_nt_factor=1.74E-19_eg=3.2.txt\n",
      "factor = 1e-19\n",
      "lambda_dep = 2.45E-09, 5.87\n",
      "saving results\n",
      "Array saved to ../test/energy_landscape_depANDsc_wt_factor=1.00E-19_eg=3.2.txt\n",
      "Array saved to ../test/energy_landscape_depANDsc_nt_factor=1.00E-19_eg=3.2.txt\n",
      "factor = 1e-20\n",
      "lambda_dep = 7.75E-10, 1.86\n",
      "saving results\n",
      "Array saved to ../test/energy_landscape_depANDsc_wt_factor=1.00E-20_eg=3.2.txt\n",
      "Array saved to ../test/energy_landscape_depANDsc_nt_factor=1.00E-20_eg=3.2.txt\n",
      "factor = 1e-21\n",
      "lambda_dep = 2.45E-10, 0.59\n",
      "saving results\n",
      "Array saved to ../test/energy_landscape_depANDsc_wt_factor=1.00E-21_eg=3.2.txt\n",
      "Array saved to ../test/energy_landscape_depANDsc_nt_factor=1.00E-21_eg=3.2.txt\n"
     ]
    }
   ],
   "source": [
    "# loop over band gaps\n",
    "for eg in egs:\n",
    "    print(eg)\n",
    "\n",
    "    # loop over factors\n",
    "    for f in factor:\n",
    "        print(f'factor = {f}')\n",
    "\n",
    "        # energy landscape\n",
    "        energies_wt_per_d = np.zeros([len(dvec), len(p_btos), len(p_snos_tilted)])\n",
    "        energies_nt_per_d = np.zeros([len(dvec), len(p_btos), len(p_snos)])\n",
    "\n",
    "        # calculate lambda_dep\n",
    "        epsr = 60\n",
    "        lambda_dep = np.sqrt(f*epsr)\n",
    "        print(f'lambda_dep = {lambda_dep:.2E}, {lambda_dep/c_bto*10**10:.2f}')\n",
    "\n",
    "        # loop over different thicknesses\n",
    "        for k, d in enumerate(dvec):\n",
    "\n",
    "            # arrays to store data\n",
    "            energies_hp_dep_wt = np.zeros([len(p_btos), len(p_snos)])\n",
    "            energies_hp_dep_nt = np.zeros([len(p_btos), len(p_snos)])\n",
    "\n",
    "            # loop over all polarization values\n",
    "            for i, p_bto in enumerate(p_btos):\n",
    "                for j, p_sno in enumerate(p_snos):\n",
    "                    energies_hp_dep_wt[i,j], _, _ = energy_model_depol_and_selfscreen(p_bto, a_bto, b_bto, p_snos_tilted[j], a_sno, b_sno, d, lambda_dep=lambda_dep, e_g=eg, d_sno=d_sno_wt,  epsr=epsr)\n",
    "                    energies_hp_dep_nt[i,j], _, _ = energy_model_depol_and_selfscreen(p_bto, a_bto, a_bto, p_sno, a_sno_snt, b_sno_snt, d, lambda_dep=lambda_dep, e_g=eg, d_sno=d_sno_nt,   epsr=epsr)\n",
    "\n",
    "            # store energy landscape\n",
    "            energies_wt_per_d[k] = energies_hp_dep_wt\n",
    "            energies_nt_per_d[k] = energies_hp_dep_nt\n",
    "\n",
    "        # save results to file\n",
    "        print('saving results')\n",
    "        save_3d_array_to_txt(energies_wt_per_d, f'{path_output}energy_landscape_depANDsc_wt_factor={f:.2E}_eg={eg}.txt')\n",
    "        save_3d_array_to_txt(energies_nt_per_d, f'{path_output}energy_landscape_depANDsc_nt_factor={f:.2E}_eg={eg}.txt')"
   ]
  },
  {
   "cell_type": "markdown",
   "metadata": {},
   "source": [
    "## 3. Electrostatic model for best parameters"
   ]
  },
  {
   "cell_type": "code",
   "execution_count": 15,
   "metadata": {},
   "outputs": [],
   "source": [
    "# best parameters\n",
    "factor = 1e-19 # factor for energy model\n",
    "eps_r = 60 # dielectric constant\n",
    "lambda_dep = np.sqrt(eps_r*factor) # screening length\n",
    "eg = 3.2 # band gap smnio3\n",
    "\n",
    "# sample size\n",
    "nsamples = 300 # number of polarization values to sample\n",
    "ncells = 200 # maximum number of batio3 unit cells\n",
    "i_middle = int(nsamples/2) # index for middle value\n",
    "\n",
    "# array for thickness\n",
    "dvec = np.arange(1, ncells+1, 1)*c_bto*10**-10 # array for number of batio3 unit cells\n",
    "d_vec_sno_nt = np.arange(1, ncells+1, 1)*sno_unpol.lattice.c*10**-10 # array for thickness smnio3 without rotations\n",
    "d_vec_sno_wt = np.arange(1, ncells+1, 1)*sno_tilts.lattice.c*10**-10/2 # array for thickness smnio3 with rotations\n",
    "\n",
    "# array for p\n",
    "p_btos = np.linspace(-0.5, 0.5, nsamples) # polarization values batio3\n",
    "p_snos = np.linspace(-0.49, 0.49, nsamples) # polarization values smnio3\n",
    "p_snos_tilted = np.linspace(-0.1, 0.1, nsamples) # polarization values smnio3 with rotations\n",
    "i_uhp = p_btos < 0 # indices for unhappy orientation of batio3"
   ]
  },
  {
   "cell_type": "code",
   "execution_count": 16,
   "metadata": {},
   "outputs": [
    {
     "name": "stdout",
     "output_type": "stream",
     "text": [
      "lambda_dep = 2.45E-09, 5.87\n",
      "Array saved to ../test/opt_energy_landscape_depANDsc_wt_factor=1.00E-19_eg=3.2.txt\n",
      "Array saved to ../test/opt_energy_landscape_depANDsc_nt_factor=1.00E-19_eg=3.2.txt\n",
      "Array saved to ../test/opt_energy_double_well_depANDsc_wt_factor=1.00E-19_eg=3.2.txt\n",
      "Array saved to ../test/opt_energy_double_well_depANDsc_nt_factor=1.00E-19_eg=3.2.txt\n"
     ]
    }
   ],
   "source": [
    "# array to store result: p_bto, p_sno, energy\n",
    "results_hp_dep_wt = np.zeros([len(dvec), 7])\n",
    "results_uhp_dep_wt = np.zeros([len(dvec), 7])\n",
    "\n",
    "results_hp_dep_nt = np.zeros([len(dvec), 7])\n",
    "results_uhp_dep_nt = np.zeros([len(dvec), 7])\n",
    "\n",
    "# save double well potential for minimum sno polarization\n",
    "energies_double_well_wt = np.zeros([len(dvec), 2, len(p_btos)])\n",
    "energies_double_well_nt = np.zeros([len(dvec), 2, len(p_btos)])\n",
    "\n",
    "# energy landscape\n",
    "energies_wt_per_d = np.zeros([len(dvec), len(p_btos), len(p_snos_tilted)])\n",
    "energies_nt_per_d = np.zeros([len(dvec), len(p_btos), len(p_snos)])\n",
    "\n",
    "print(f'lambda_dep = {lambda_dep:.2E}, {lambda_dep/c_bto*10**10:.2f}')\n",
    "\n",
    "# loop over different thicknesses\n",
    "for k, d in enumerate(dvec):\n",
    "\n",
    "    # arrays to store data\n",
    "    energies_hp_dep_wt = np.zeros([len(p_btos), len(p_snos)])\n",
    "    energies_hp_dep_nt = np.zeros([len(p_btos), len(p_snos)])\n",
    "\n",
    "    # separate energies\n",
    "    energies_separate_hp_dep_wt = np.zeros([len(p_btos), len(p_snos), 4])    \n",
    "    energies_separate_hp_dep_nt = np.zeros([len(p_btos), len(p_snos), 4])\n",
    "\n",
    "\n",
    "    # loop over all polarization values\n",
    "    for i, p_bto in enumerate(p_btos):\n",
    "        for j, p_sno in enumerate(p_snos):\n",
    "            energies_hp_dep_wt[i,j], energies_separate_hp_dep_wt[i,j], _ = energy_model_depol_and_selfscreen(p_bto, a_bto, b_bto, p_snos_tilted[j], a_sno, b_sno, d, lambda_dep=lambda_dep, e_g=eg, d_sno=d_vec_sno_wt[k],  epsr=eps_r)\n",
    "            energies_hp_dep_nt[i,j], energies_separate_hp_dep_nt[i,j], _ = energy_model_depol_and_selfscreen(p_bto, a_bto, b_bto, p_sno, a_sno_snt, b_sno_snt, d, lambda_dep=lambda_dep, e_g=eg, d_sno=d_vec_sno_nt[k],   epsr=eps_r)\n",
    "    \n",
    "    # happy orientation\n",
    "    min_hp_wt = getmin(energies_hp_dep_wt)\n",
    "    min_hp_nt = getmin(energies_hp_dep_nt)\n",
    "    \n",
    "    # unhappy orientation\n",
    "    min_uhp_wt = getmin(energies_hp_dep_wt[i_uhp])\n",
    "    min_uhp_nt = getmin(energies_hp_dep_nt[i_uhp])\n",
    "\n",
    "    # store results\n",
    "\n",
    "    # happy orientation with rotations\n",
    "    results_hp_dep_wt[k, 0], results_hp_dep_wt[k, 1], results_hp_dep_wt[k, 2] = p_btos[min_hp_wt[0]], p_snos_tilted[min_hp_wt[1]],  energies_hp_dep_wt[min_hp_wt]\n",
    "    results_hp_dep_wt[k, 3:] = energies_separate_hp_dep_wt[min_hp_wt[0], min_hp_wt[1]]\n",
    "\n",
    "    # happy orientation without rotations\n",
    "    results_hp_dep_nt[k, 0], results_hp_dep_nt[k, 1], results_hp_dep_nt[k, 2] = p_btos[min_hp_nt[0]], p_snos[min_hp_nt[1]],  energies_hp_dep_nt[min_hp_nt]\n",
    "    results_hp_dep_nt[k, 3:] = energies_separate_hp_dep_nt[min_hp_nt[0], min_hp_nt[1]]\n",
    "\n",
    "    # unhappy orientation with rotations\n",
    "    results_uhp_dep_wt[k, 0], results_uhp_dep_wt[k, 1], results_uhp_dep_wt[k, 2] = p_btos[i_uhp][min_uhp_wt[0]], p_snos_tilted[min_uhp_wt[1]],  energies_hp_dep_wt[i_uhp][min_uhp_wt]\n",
    "    results_uhp_dep_wt[k, 3:] = energies_separate_hp_dep_wt[i_uhp][min_uhp_wt[0], min_uhp_wt[1]]\n",
    "\n",
    "    # unhappy orientation without rotations\n",
    "    results_uhp_dep_nt[k, 0], results_uhp_dep_nt[k, 1], results_uhp_dep_nt[k, 2] = p_btos[i_uhp][min_uhp_nt[0]], p_snos[min_uhp_nt[1]],  energies_hp_dep_nt[i_uhp][min_uhp_nt]\n",
    "    results_uhp_dep_nt[k, 3:] = energies_separate_hp_dep_nt[i_uhp][min_uhp_nt[0], min_uhp_nt[1]]\n",
    "\n",
    "    # store energy landscape\n",
    "    energies_nt_per_d[k] = energies_hp_dep_nt\n",
    "    energies_wt_per_d[k] = energies_hp_dep_wt\n",
    "\n",
    "    # store double well potential\n",
    "    energies_double_well_nt[k, 0] = energies_hp_dep_nt[:,min_hp_nt[1]]\n",
    "    energies_double_well_nt[k, 1] = energies_hp_dep_nt[:,min_uhp_nt[1]]\n",
    "    energies_double_well_wt[k, 0] = energies_hp_dep_wt[:,min_hp_wt[1]] \n",
    "    energies_double_well_wt[k, 1] = energies_hp_dep_wt[:,min_uhp_wt[1]]\n",
    "\n",
    "# save results to file\n",
    "np.savetxt(f'{path_output}opt_results_depANDsc_hp_dep_wt_factor={factor:.2E}_eg={eg}.txt', results_hp_dep_wt)\n",
    "np.savetxt(f'{path_output}opt_results_depANDsc_hp_dep_nt_factor={factor:.2E}_eg={eg}.txt', results_hp_dep_nt)\n",
    "np.savetxt(f'{path_output}opt_results_depANDsc_uhp_dep_wt_factor={factor:.2E}_eg={eg}.txt', results_uhp_dep_wt)\n",
    "np.savetxt(f'{path_output}opt_results_depANDsc_uhp_dep_nt_factor={factor:.2E}_eg={eg}.txt', results_uhp_dep_nt)\n",
    "save_3d_array_to_txt(energies_wt_per_d, f'{path_output}opt_energy_landscape_depANDsc_wt_factor={factor:.2E}_eg={eg}.txt')\n",
    "save_3d_array_to_txt(energies_nt_per_d, f'{path_output}opt_energy_landscape_depANDsc_nt_factor={factor:.2E}_eg={eg}.txt')\n",
    "save_3d_array_to_txt(energies_double_well_wt, f'{path_output}opt_energy_double_well_depANDsc_wt_factor={factor:.2E}_eg={eg}.txt')\n",
    "save_3d_array_to_txt(energies_double_well_nt, f'{path_output}opt_energy_double_well_depANDsc_nt_factor={factor:.2E}_eg={eg}.txt')"
   ]
  },
  {
   "cell_type": "code",
   "execution_count": null,
   "metadata": {},
   "outputs": [],
   "source": []
  }
 ],
 "metadata": {
  "jupytext": {
   "formats": "ipynb,py:percent"
  },
  "kernelspec": {
   "display_name": "240402_atomate2",
   "language": "python",
   "name": "python3"
  },
  "language_info": {
   "codemirror_mode": {
    "name": "ipython",
    "version": 3
   },
   "file_extension": ".py",
   "mimetype": "text/x-python",
   "name": "python",
   "nbconvert_exporter": "python",
   "pygments_lexer": "ipython3",
   "version": "3.12.2"
  }
 },
 "nbformat": 4,
 "nbformat_minor": 2
}
